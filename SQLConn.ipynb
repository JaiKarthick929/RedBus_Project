{
 "cells": [
  {
   "cell_type": "code",
   "execution_count": 1,
   "id": "d3dce8f0-59aa-4c2c-adda-9e27b8a47e3a",
   "metadata": {},
   "outputs": [],
   "source": [
    "#importing libraries\n",
    "import pandas as pd\n",
    "import mysql.connector\n",
    "import numpy as np"
   ]
  },
  {
   "cell_type": "code",
   "execution_count": 3,
   "id": "189e4076-be31-4adf-91f0-d898bb33153b",
   "metadata": {},
   "outputs": [
    {
     "data": {
      "text/html": [
       "<div>\n",
       "<style scoped>\n",
       "    .dataframe tbody tr th:only-of-type {\n",
       "        vertical-align: middle;\n",
       "    }\n",
       "\n",
       "    .dataframe tbody tr th {\n",
       "        vertical-align: top;\n",
       "    }\n",
       "\n",
       "    .dataframe thead th {\n",
       "        text-align: right;\n",
       "    }\n",
       "</style>\n",
       "<table border=\"1\" class=\"dataframe\">\n",
       "  <thead>\n",
       "    <tr style=\"text-align: right;\">\n",
       "      <th></th>\n",
       "      <th>Bus_name</th>\n",
       "      <th>Bus_type</th>\n",
       "      <th>Start_time</th>\n",
       "      <th>End_time</th>\n",
       "      <th>Total_duration</th>\n",
       "      <th>Price</th>\n",
       "      <th>Seats_Available</th>\n",
       "      <th>Ratings</th>\n",
       "      <th>Route_link</th>\n",
       "      <th>Route_name</th>\n",
       "    </tr>\n",
       "  </thead>\n",
       "  <tbody>\n",
       "    <tr>\n",
       "      <th>0</th>\n",
       "      <td>KSRTC (Kerala) - 235</td>\n",
       "      <td>Swift Deluxe Non AC Air Bus (2+2)</td>\n",
       "      <td>15:00</td>\n",
       "      <td>01:00</td>\n",
       "      <td>10h 00m</td>\n",
       "      <td>INR 620</td>\n",
       "      <td>18 Seats available</td>\n",
       "      <td>3.9\\n15</td>\n",
       "      <td>https://www.redbus.in/bus-tickets/bangalore-to...</td>\n",
       "      <td>Bangalore to Kozhikode</td>\n",
       "    </tr>\n",
       "    <tr>\n",
       "      <th>1</th>\n",
       "      <td>KSRTC (Kerala) - 97</td>\n",
       "      <td>Swift Deluxe Non AC Air Bus (2+2)</td>\n",
       "      <td>16:00</td>\n",
       "      <td>00:45</td>\n",
       "      <td>08h 45m</td>\n",
       "      <td>INR 567</td>\n",
       "      <td>7 Seats available</td>\n",
       "      <td>3.2\\n23</td>\n",
       "      <td>https://www.redbus.in/bus-tickets/bangalore-to...</td>\n",
       "      <td>Bangalore to Kozhikode</td>\n",
       "    </tr>\n",
       "    <tr>\n",
       "      <th>2</th>\n",
       "      <td>KSRTC (Kerala) - 380</td>\n",
       "      <td>Swift Deluxe Non AC Air Bus (2+2)</td>\n",
       "      <td>16:15</td>\n",
       "      <td>01:00</td>\n",
       "      <td>08h 45m</td>\n",
       "      <td>INR 567</td>\n",
       "      <td>6 Seats available</td>\n",
       "      <td>2.7\\n3</td>\n",
       "      <td>https://www.redbus.in/bus-tickets/bangalore-to...</td>\n",
       "      <td>Bangalore to Kozhikode</td>\n",
       "    </tr>\n",
       "    <tr>\n",
       "      <th>3</th>\n",
       "      <td>KSRTC (Kerala) - 789</td>\n",
       "      <td>Super Fast Non AC Seater (2+3)</td>\n",
       "      <td>20:00</td>\n",
       "      <td>03:45</td>\n",
       "      <td>07h 45m</td>\n",
       "      <td>INR 473</td>\n",
       "      <td>15 Seats available</td>\n",
       "      <td>3.8\\n82</td>\n",
       "      <td>https://www.redbus.in/bus-tickets/bangalore-to...</td>\n",
       "      <td>Bangalore to Kozhikode</td>\n",
       "    </tr>\n",
       "    <tr>\n",
       "      <th>4</th>\n",
       "      <td>KSRTC (Kerala) - 1586</td>\n",
       "      <td>Super Express Non AC Seater Air Bus (2+2)</td>\n",
       "      <td>21:30</td>\n",
       "      <td>06:55</td>\n",
       "      <td>09h 25m</td>\n",
       "      <td>INR 640</td>\n",
       "      <td>26 Seats available</td>\n",
       "      <td>3.8\\n35</td>\n",
       "      <td>https://www.redbus.in/bus-tickets/bangalore-to...</td>\n",
       "      <td>Bangalore to Kozhikode</td>\n",
       "    </tr>\n",
       "    <tr>\n",
       "      <th>...</th>\n",
       "      <td>...</td>\n",
       "      <td>...</td>\n",
       "      <td>...</td>\n",
       "      <td>...</td>\n",
       "      <td>...</td>\n",
       "      <td>...</td>\n",
       "      <td>...</td>\n",
       "      <td>...</td>\n",
       "      <td>...</td>\n",
       "      <td>...</td>\n",
       "    </tr>\n",
       "    <tr>\n",
       "      <th>3233</th>\n",
       "      <td>Parameswar Travels</td>\n",
       "      <td>A/C Seater Push Back (2+3)</td>\n",
       "      <td>23:45</td>\n",
       "      <td>05:00</td>\n",
       "      <td>05h 15m</td>\n",
       "      <td>285</td>\n",
       "      <td>42 Seats available</td>\n",
       "      <td>3.4\\n119</td>\n",
       "      <td>https://www.redbus.in/bus-tickets/kolkata-to-d...</td>\n",
       "      <td>Kolkata to Digha</td>\n",
       "    </tr>\n",
       "    <tr>\n",
       "      <th>3234</th>\n",
       "      <td>Snemita Paribahan (Bhorpet)</td>\n",
       "      <td>AC Seater (2+2)</td>\n",
       "      <td>23:55</td>\n",
       "      <td>04:45</td>\n",
       "      <td>04h 50m</td>\n",
       "      <td>320</td>\n",
       "      <td>29 Seats available</td>\n",
       "      <td>3.5\\n16</td>\n",
       "      <td>https://www.redbus.in/bus-tickets/kolkata-to-d...</td>\n",
       "      <td>Kolkata to Digha</td>\n",
       "    </tr>\n",
       "    <tr>\n",
       "      <th>3235</th>\n",
       "      <td>Basu Travels</td>\n",
       "      <td>A/C Seater / Sleeper (2+2)</td>\n",
       "      <td>23:59</td>\n",
       "      <td>05:00</td>\n",
       "      <td>05h 01m</td>\n",
       "      <td>INR 300</td>\n",
       "      <td>34 Seats available</td>\n",
       "      <td>3.5\\n41</td>\n",
       "      <td>https://www.redbus.in/bus-tickets/kolkata-to-d...</td>\n",
       "      <td>Kolkata to Digha</td>\n",
       "    </tr>\n",
       "    <tr>\n",
       "      <th>3236</th>\n",
       "      <td>Parameswar Travels</td>\n",
       "      <td>A/C Seater Push Back (2+3)</td>\n",
       "      <td>23:59</td>\n",
       "      <td>05:00</td>\n",
       "      <td>05h 01m</td>\n",
       "      <td>285</td>\n",
       "      <td>56 Seats available</td>\n",
       "      <td>3.0\\n124</td>\n",
       "      <td>https://www.redbus.in/bus-tickets/kolkata-to-d...</td>\n",
       "      <td>Kolkata to Digha</td>\n",
       "    </tr>\n",
       "    <tr>\n",
       "      <th>3237</th>\n",
       "      <td>Sagufta Travels (Atithi)</td>\n",
       "      <td>A/C Seater Push Back (2+3)</td>\n",
       "      <td>23:59</td>\n",
       "      <td>05:00</td>\n",
       "      <td>05h 01m</td>\n",
       "      <td>INR 315</td>\n",
       "      <td>41 Seats available</td>\n",
       "      <td>3.6\\n29</td>\n",
       "      <td>https://www.redbus.in/bus-tickets/kolkata-to-d...</td>\n",
       "      <td>Kolkata to Digha</td>\n",
       "    </tr>\n",
       "  </tbody>\n",
       "</table>\n",
       "<p>3238 rows × 10 columns</p>\n",
       "</div>"
      ],
      "text/plain": [
       "                         Bus_name                                   Bus_type  \\\n",
       "0            KSRTC (Kerala) - 235          Swift Deluxe Non AC Air Bus (2+2)   \n",
       "1             KSRTC (Kerala) - 97          Swift Deluxe Non AC Air Bus (2+2)   \n",
       "2            KSRTC (Kerala) - 380          Swift Deluxe Non AC Air Bus (2+2)   \n",
       "3            KSRTC (Kerala) - 789             Super Fast Non AC Seater (2+3)   \n",
       "4           KSRTC (Kerala) - 1586  Super Express Non AC Seater Air Bus (2+2)   \n",
       "...                           ...                                        ...   \n",
       "3233           Parameswar Travels                 A/C Seater Push Back (2+3)   \n",
       "3234  Snemita Paribahan (Bhorpet)                            AC Seater (2+2)   \n",
       "3235                 Basu Travels                 A/C Seater / Sleeper (2+2)   \n",
       "3236           Parameswar Travels                 A/C Seater Push Back (2+3)   \n",
       "3237     Sagufta Travels (Atithi)                 A/C Seater Push Back (2+3)   \n",
       "\n",
       "     Start_time End_time Total_duration    Price     Seats_Available  \\\n",
       "0         15:00    01:00        10h 00m  INR 620  18 Seats available   \n",
       "1         16:00    00:45        08h 45m  INR 567   7 Seats available   \n",
       "2         16:15    01:00        08h 45m  INR 567   6 Seats available   \n",
       "3         20:00    03:45        07h 45m  INR 473  15 Seats available   \n",
       "4         21:30    06:55        09h 25m  INR 640  26 Seats available   \n",
       "...         ...      ...            ...      ...                 ...   \n",
       "3233      23:45    05:00        05h 15m      285  42 Seats available   \n",
       "3234      23:55    04:45        04h 50m      320  29 Seats available   \n",
       "3235      23:59    05:00        05h 01m  INR 300  34 Seats available   \n",
       "3236      23:59    05:00        05h 01m      285  56 Seats available   \n",
       "3237      23:59    05:00        05h 01m  INR 315  41 Seats available   \n",
       "\n",
       "       Ratings                                         Route_link  \\\n",
       "0      3.9\\n15  https://www.redbus.in/bus-tickets/bangalore-to...   \n",
       "1      3.2\\n23  https://www.redbus.in/bus-tickets/bangalore-to...   \n",
       "2       2.7\\n3  https://www.redbus.in/bus-tickets/bangalore-to...   \n",
       "3      3.8\\n82  https://www.redbus.in/bus-tickets/bangalore-to...   \n",
       "4      3.8\\n35  https://www.redbus.in/bus-tickets/bangalore-to...   \n",
       "...        ...                                                ...   \n",
       "3233  3.4\\n119  https://www.redbus.in/bus-tickets/kolkata-to-d...   \n",
       "3234   3.5\\n16  https://www.redbus.in/bus-tickets/kolkata-to-d...   \n",
       "3235   3.5\\n41  https://www.redbus.in/bus-tickets/kolkata-to-d...   \n",
       "3236  3.0\\n124  https://www.redbus.in/bus-tickets/kolkata-to-d...   \n",
       "3237   3.6\\n29  https://www.redbus.in/bus-tickets/kolkata-to-d...   \n",
       "\n",
       "                  Route_name  \n",
       "0     Bangalore to Kozhikode  \n",
       "1     Bangalore to Kozhikode  \n",
       "2     Bangalore to Kozhikode  \n",
       "3     Bangalore to Kozhikode  \n",
       "4     Bangalore to Kozhikode  \n",
       "...                      ...  \n",
       "3233        Kolkata to Digha  \n",
       "3234        Kolkata to Digha  \n",
       "3235        Kolkata to Digha  \n",
       "3236        Kolkata to Digha  \n",
       "3237        Kolkata to Digha  \n",
       "\n",
       "[3238 rows x 10 columns]"
      ]
     },
     "execution_count": 3,
     "metadata": {},
     "output_type": "execute_result"
    }
   ],
   "source": [
    "# csv to dataframe\n",
    "df_buses_1=pd.read_csv(r\"C:\\Users\\J\\Desktop\\GUVI\\Project\\RedBus\\ALL\\K.csv\")\n",
    "df_buses_2=pd.read_csv(r\"C:\\Users\\J\\Desktop\\GUVI\\Project\\RedBus\\ALL\\T.csv\")\n",
    "df_buses_3=pd.read_csv(r\"C:\\Users\\J\\Desktop\\GUVI\\Project\\RedBus\\ALL\\A.csv\")\n",
    "df_buses_4=pd.read_csv(r\"C:\\Users\\J\\Desktop\\GUVI\\Project\\RedBus\\ALL\\R.csv\")\n",
    "df_buses_5=pd.read_csv(r\"C:\\Users\\J\\Desktop\\GUVI\\Project\\RedBus\\ALL\\G.csv\")\n",
    "df_buses_6=pd.read_csv(r\"C:\\Users\\J\\Desktop\\GUVI\\Project\\RedBus\\ALL\\SB.csv\")\n",
    "df_buses_7=pd.read_csv(r\"C:\\Users\\J\\Desktop\\GUVI\\Project\\RedBus\\ALL\\AS.csv\")\n",
    "df_buses_8=pd.read_csv(r\"C:\\Users\\J\\Desktop\\GUVI\\Project\\RedBus\\ALL\\H.csv\")\n",
    "df_buses_9=pd.read_csv(r\"C:\\Users\\J\\Desktop\\GUVI\\Project\\RedBus\\ALL\\UP.csv\")\n",
    "df_buses_10=pd.read_csv(r\"C:\\Users\\J\\Desktop\\GUVI\\Project\\RedBus\\ALL\\WB.csv\")\n",
    "\n",
    "Final_df=pd.concat([df_buses_1,df_buses_2,df_buses_3,df_buses_4,df_buses_5,df_buses_6,\n",
    "                    df_buses_7,df_buses_8,df_buses_9,df_buses_10],ignore_index=True)\n",
    "Final_df"
   ]
  },
  {
   "cell_type": "code",
   "execution_count": 5,
   "id": "df809265-74ec-496e-bdf6-027c6e10d4db",
   "metadata": {},
   "outputs": [
    {
     "name": "stdout",
     "output_type": "stream",
     "text": [
      "<class 'pandas.core.frame.DataFrame'>\n",
      "RangeIndex: 3238 entries, 0 to 3237\n",
      "Data columns (total 10 columns):\n",
      " #   Column           Non-Null Count  Dtype \n",
      "---  ------           --------------  ----- \n",
      " 0   Bus_name         3238 non-null   object\n",
      " 1   Bus_type         3238 non-null   object\n",
      " 2   Start_time       3238 non-null   object\n",
      " 3   End_time         3238 non-null   object\n",
      " 4   Total_duration   3238 non-null   object\n",
      " 5   Price            3238 non-null   object\n",
      " 6   Seats_Available  3238 non-null   object\n",
      " 7   Ratings          3238 non-null   object\n",
      " 8   Route_link       3238 non-null   object\n",
      " 9   Route_name       3238 non-null   object\n",
      "dtypes: object(10)\n",
      "memory usage: 253.1+ KB\n"
     ]
    }
   ],
   "source": [
    "#Data about the data\n",
    "Final_df.info()"
   ]
  },
  {
   "cell_type": "code",
   "execution_count": 7,
   "id": "a280ab02-782e-4fd3-8e8f-99a9269e6258",
   "metadata": {},
   "outputs": [
    {
     "data": {
      "text/plain": [
       "0       620.0\n",
       "1       567.0\n",
       "2       567.0\n",
       "3       473.0\n",
       "4       640.0\n",
       "        ...  \n",
       "3233    285.0\n",
       "3234    320.0\n",
       "3235    300.0\n",
       "3236    285.0\n",
       "3237    315.0\n",
       "Name: Price, Length: 3238, dtype: float64"
      ]
     },
     "execution_count": 7,
     "metadata": {},
     "output_type": "execute_result"
    }
   ],
   "source": [
    "#convert prices to numeric\n",
    "Final_df[\"Price\"]=Final_df[\"Price\"].str.replace(\"INR\",\"\")\n",
    "Final_df[\"Price\"]=Final_df[\"Price\"].astype(float)\n",
    "Final_df[\"Price\"].fillna(0) \n"
   ]
  },
  {
   "cell_type": "code",
   "execution_count": 9,
   "id": "21d87393-2b73-4ad4-80dc-2210aef93f55",
   "metadata": {},
   "outputs": [
    {
     "name": "stderr",
     "output_type": "stream",
     "text": [
      "C:\\Users\\J\\AppData\\Local\\Temp\\ipykernel_2708\\2577861265.py:6: FutureWarning: A value is trying to be set on a copy of a DataFrame or Series through chained assignment using an inplace method.\n",
      "The behavior will change in pandas 3.0. This inplace method will never work because the intermediate object on which we are setting values always behaves as a copy.\n",
      "\n",
      "For example, when doing 'df[col].method(value, inplace=True)', try using 'df.method({col: value}, inplace=True)' or df[col] = df[col].method(value) instead, to perform the operation inplace on the original object.\n",
      "\n",
      "\n",
      "  Final_df[\"Ratings\"].fillna(0,inplace=True)\n"
     ]
    }
   ],
   "source": [
    "#convert Ratings to numeric\n",
    "Final_df[\"Ratings\"]=Final_df[\"Ratings\"].str.replace(\"New\",\"\")\n",
    "Final_df[\"Ratings\"]=Final_df[\"Ratings\"].str.strip()\n",
    "Final_df[\"Ratings\"]=Final_df[\"Ratings\"].str.split().str[0]\n",
    "Final_df[\"Ratings\"] = pd.to_numeric(Final_df[\"Ratings\"], errors='coerce')\n",
    "Final_df[\"Ratings\"].fillna(0,inplace=True) \n"
   ]
  },
  {
   "cell_type": "code",
   "execution_count": 11,
   "id": "b24269ae-f5aa-49f4-a974-efb776128509",
   "metadata": {},
   "outputs": [
    {
     "name": "stdout",
     "output_type": "stream",
     "text": [
      "<class 'pandas.core.frame.DataFrame'>\n",
      "RangeIndex: 3238 entries, 0 to 3237\n",
      "Data columns (total 10 columns):\n",
      " #   Column           Non-Null Count  Dtype  \n",
      "---  ------           --------------  -----  \n",
      " 0   Bus_name         3238 non-null   object \n",
      " 1   Bus_type         3238 non-null   object \n",
      " 2   Start_time       3238 non-null   object \n",
      " 3   End_time         3238 non-null   object \n",
      " 4   Total_duration   3238 non-null   object \n",
      " 5   Price            3238 non-null   float64\n",
      " 6   Seats_Available  3238 non-null   object \n",
      " 7   Ratings          3238 non-null   float64\n",
      " 8   Route_link       3238 non-null   object \n",
      " 9   Route_name       3238 non-null   object \n",
      "dtypes: float64(2), object(8)\n",
      "memory usage: 253.1+ KB\n"
     ]
    }
   ],
   "source": [
    "# info after the data type change\n",
    "Final_df.info()"
   ]
  },
  {
   "cell_type": "code",
   "execution_count": 13,
   "id": "2c273625-e17e-4982-98a6-d81c38014ee6",
   "metadata": {},
   "outputs": [],
   "source": [
    "Final_df = Final_df[Final_df[\"Price\"] <= 7000]"
   ]
  },
  {
   "cell_type": "code",
   "execution_count": 15,
   "id": "0489421f-3a53-4687-9a15-b1f8c0740b71",
   "metadata": {},
   "outputs": [],
   "source": [
    "# replacing the nan value\n",
    "Final_df = Final_df.replace({np.nan: None})"
   ]
  },
  {
   "cell_type": "code",
   "execution_count": 17,
   "id": "916e7d20-8c03-43ba-8cf7-88d2a046b430",
   "metadata": {},
   "outputs": [],
   "source": [
    "# change dataframe to csv\n",
    "path=r\"C:\\Users\\J\\Desktop\\GUVI\\Project\\RedBus\\Bus_Details\\df_busdetail.csv\"\n",
    "Final_df.to_csv(path,index=False)"
   ]
  },
  {
   "cell_type": "code",
   "execution_count": 19,
   "id": "ffab1b72-f482-4f67-9256-d18d99496b97",
   "metadata": {},
   "outputs": [
    {
     "name": "stdout",
     "output_type": "stream",
     "text": [
      "<pymysql.connections.Connection object at 0x000001F0ABEC9100>\n"
     ]
    }
   ],
   "source": [
    "import pymysql\n",
    "#Alternative pymysql connector\n",
    "con= pymysql.connect(\n",
    "    host=\"localhost\",\n",
    "    user=\"root\",\n",
    "    password=\"Karthick@04\",\n",
    "\n",
    "    )\n",
    "print(con)"
   ]
  },
  {
   "cell_type": "code",
   "execution_count": 21,
   "id": "7f8adbcd-570d-4bb6-9f9b-609f821f7932",
   "metadata": {},
   "outputs": [],
   "source": [
    "mycursor=con.cursor()"
   ]
  },
  {
   "cell_type": "code",
   "execution_count": 23,
   "id": "c0746b56-b76f-4ff0-8bba-8aaa37ee1840",
   "metadata": {},
   "outputs": [
    {
     "data": {
      "text/plain": [
       "1"
      ]
     },
     "execution_count": 23,
     "metadata": {},
     "output_type": "execute_result"
    }
   ],
   "source": [
    "mycursor.execute(\"CREATE DATABASE IF NOT EXISTS RED_BUS_DETAILS\")"
   ]
  },
  {
   "cell_type": "code",
   "execution_count": 25,
   "id": "d3127858-b225-4f3d-91b8-7af574e48075",
   "metadata": {},
   "outputs": [
    {
     "name": "stdout",
     "output_type": "stream",
     "text": [
      "('dte38',)\n",
      "('information_schema',)\n",
      "('jai',)\n",
      "('mysql',)\n",
      "('performance_schema',)\n",
      "('red_bus_details',)\n",
      "('sakila',)\n",
      "('sys',)\n",
      "('task',)\n",
      "('task1',)\n",
      "('test',)\n",
      "('world',)\n"
     ]
    }
   ],
   "source": [
    "mycursor.execute(\"SHOW DATABASES\")\n",
    "for x in mycursor:\n",
    "    print(x)"
   ]
  },
  {
   "cell_type": "code",
   "execution_count": 27,
   "id": "117fbd79-046a-4002-bc2c-06d3d59a4c44",
   "metadata": {},
   "outputs": [
    {
     "data": {
      "text/plain": [
       "0"
      ]
     },
     "execution_count": 27,
     "metadata": {},
     "output_type": "execute_result"
    }
   ],
   "source": [
    "mycursor.execute(\"USE RED_BUS_DETAILS\")"
   ]
  },
  {
   "cell_type": "code",
   "execution_count": 29,
   "id": "3abf306c-4cfe-481c-8ce4-b84965d8b4dd",
   "metadata": {},
   "outputs": [
    {
     "name": "stdout",
     "output_type": "stream",
     "text": [
      "Table Created successfully\n"
     ]
    }
   ],
   "source": [
    "# Table Creation\n",
    "mycursor.execute('''CREATE TABLE IF NOT EXISTS bus_details1(\n",
    "                  ID INT AUTO_INCREMENT PRIMARY KEY,\n",
    "                  Bus_name VARCHAR(255) NOT NULL,\n",
    "                  Bus_type VARCHAR(255) NOT NULL,\n",
    "                  Start_time VARCHAR(255) NOT NULL,\n",
    "                  End_time VARCHAR(255) NOT NULL,\n",
    "                  Total_duration VARCHAR(255) NOT NULL,\n",
    "                  Price FLOAT NULL,\n",
    "                  Seats_Available VARCHAR(255) NOT NULL,\n",
    "                  Ratings Float NULL,\n",
    "                  Route_link VARCHAR(255) NULL,\n",
    "                  Route_name VARCHAR(255) NULL\n",
    "                  )''')\n",
    "print(\"Table Created successfully\")"
   ]
  },
  {
   "cell_type": "code",
   "execution_count": 31,
   "id": "aa7448d3-e9a4-419c-b842-52e8f5f6cdb4",
   "metadata": {},
   "outputs": [
    {
     "name": "stdout",
     "output_type": "stream",
     "text": [
      "Values inserted successfully\n"
     ]
    }
   ],
   "source": [
    "# SQL query to insert data into bus_details table\n",
    "insert_query = '''INSERT INTO bus_details(\n",
    "                    Bus_name,\n",
    "                    Bus_type,\n",
    "                    Start_time,\n",
    "                    End_time,\n",
    "                    Total_duration,\n",
    "                    Price,\n",
    "                    Seats_Available,\n",
    "                    Ratings,\n",
    "                    Route_link,\n",
    "                    Route_name)\n",
    "                  VALUES(%s, %s, %s, %s, %s, %s, %s, %s, %s, %s)'''\n",
    "data = Final_df.values.tolist()\n",
    "\n",
    "mycursor.executemany(insert_query, data)\n",
    "\n",
    "con.commit()\n",
    "\n",
    "print(\"Values inserted successfully\")\n"
   ]
  },
  {
   "cell_type": "code",
   "execution_count": null,
   "id": "a0f45f6e-8be6-44e3-8928-667c440a65fd",
   "metadata": {},
   "outputs": [],
   "source": []
  }
 ],
 "metadata": {
  "kernelspec": {
   "display_name": "Python 3 (ipykernel)",
   "language": "python",
   "name": "python3"
  },
  "language_info": {
   "codemirror_mode": {
    "name": "ipython",
    "version": 3
   },
   "file_extension": ".py",
   "mimetype": "text/x-python",
   "name": "python",
   "nbconvert_exporter": "python",
   "pygments_lexer": "ipython3",
   "version": "3.12.4"
  }
 },
 "nbformat": 4,
 "nbformat_minor": 5
}

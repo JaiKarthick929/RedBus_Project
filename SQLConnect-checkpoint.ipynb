{
 "cells": [
  {
   "cell_type": "code",
   "execution_count": 39,
   "id": "d90ba0b4-2047-4efc-be0a-4f7bd73ad9dc",
   "metadata": {},
   "outputs": [
    {
     "name": "stdout",
     "output_type": "stream",
     "text": [
      "Collecting mysql.connector\n",
      "  Downloading mysql-connector-2.2.9.tar.gz (11.9 MB)\n",
      "     ---------------------------------------- 0.0/11.9 MB ? eta -:--:--\n",
      "     ---------------------------------------- 0.0/11.9 MB ? eta -:--:--\n",
      "     --------------------------------------- 0.0/11.9 MB 262.6 kB/s eta 0:00:46\n",
      "     --------------------------------------- 0.0/11.9 MB 262.6 kB/s eta 0:00:46\n",
      "     --------------------------------------- 0.0/11.9 MB 262.6 kB/s eta 0:00:46\n",
      "     --------------------------------------- 0.1/11.9 MB 233.8 kB/s eta 0:00:51\n",
      "     --------------------------------------- 0.1/11.9 MB 500.5 kB/s eta 0:00:24\n",
      "     - -------------------------------------- 0.6/11.9 MB 1.8 MB/s eta 0:00:07\n",
      "     --- ------------------------------------ 1.1/11.9 MB 2.9 MB/s eta 0:00:04\n",
      "     ----- ---------------------------------- 1.5/11.9 MB 3.7 MB/s eta 0:00:03\n",
      "     ------ --------------------------------- 2.0/11.9 MB 4.5 MB/s eta 0:00:03\n",
      "     -------- ------------------------------- 2.6/11.9 MB 5.2 MB/s eta 0:00:02\n",
      "     ---------- ----------------------------- 3.2/11.9 MB 5.9 MB/s eta 0:00:02\n",
      "     ------------- -------------------------- 3.9/11.9 MB 6.5 MB/s eta 0:00:02\n",
      "     --------------- ------------------------ 4.5/11.9 MB 7.0 MB/s eta 0:00:02\n",
      "     ----------------- ---------------------- 5.0/11.9 MB 7.3 MB/s eta 0:00:01\n",
      "     ------------------ --------------------- 5.5/11.9 MB 7.6 MB/s eta 0:00:01\n",
      "     -------------------- ------------------- 6.1/11.9 MB 7.8 MB/s eta 0:00:01\n",
      "     ---------------------- ----------------- 6.7/11.9 MB 8.1 MB/s eta 0:00:01\n",
      "     ------------------------ --------------- 7.3/11.9 MB 8.3 MB/s eta 0:00:01\n",
      "     -------------------------- ------------- 7.9/11.9 MB 8.6 MB/s eta 0:00:01\n",
      "     ---------------------------- ----------- 8.4/11.9 MB 8.7 MB/s eta 0:00:01\n",
      "     ------------------------------ --------- 8.9/11.9 MB 8.8 MB/s eta 0:00:01\n",
      "     -------------------------------- ------- 9.6/11.9 MB 9.0 MB/s eta 0:00:01\n",
      "     ---------------------------------- ----- 10.2/11.9 MB 9.2 MB/s eta 0:00:01\n",
      "     ----------------------------------- --- 10.6/11.9 MB 12.1 MB/s eta 0:00:01\n",
      "     ------------------------------------ -- 11.1/11.9 MB 12.1 MB/s eta 0:00:01\n",
      "     --------------------------------------  11.7/11.9 MB 11.7 MB/s eta 0:00:01\n",
      "     --------------------------------------  11.8/11.9 MB 11.9 MB/s eta 0:00:01\n",
      "     --------------------------------------- 11.9/11.9 MB 11.1 MB/s eta 0:00:00\n",
      "  Preparing metadata (setup.py): started\n",
      "  Preparing metadata (setup.py): finished with status 'done'\n",
      "Building wheels for collected packages: mysql.connector\n",
      "  Building wheel for mysql.connector (setup.py): started\n",
      "  Building wheel for mysql.connector (setup.py): finished with status 'done'\n",
      "  Created wheel for mysql.connector: filename=mysql_connector-2.2.9-cp312-cp312-win_amd64.whl size=247958 sha256=dd673b9a75c04ed623d8157f53c08eadecccf8b6e10335f4cc5e38e7ea0a97be\n",
      "  Stored in directory: c:\\users\\j\\appdata\\local\\pip\\cache\\wheels\\03\\17\\fa\\d7604c72dd3dd6d3eb3d249abf36cc532c9a9b4354b8f1bc4f\n",
      "Successfully built mysql.connector\n",
      "Installing collected packages: mysql.connector\n",
      "Successfully installed mysql.connector-2.2.9\n"
     ]
    }
   ],
   "source": [
    "!pip install mysql.connector"
   ]
  },
  {
   "cell_type": "code",
   "execution_count": 1,
   "id": "9a4d5f7d-29ad-458a-8a8d-824bdf0fa1e4",
   "metadata": {},
   "outputs": [],
   "source": [
    "#importing libraries\n",
    "import pandas as pd\n",
    "import mysql.connector\n",
    "import numpy as np"
   ]
  },
  {
   "cell_type": "code",
   "execution_count": 17,
   "id": "455725c4-aa28-4860-a94e-1735f3b58fa4",
   "metadata": {},
   "outputs": [
    {
     "data": {
      "text/html": [
       "<div>\n",
       "<style scoped>\n",
       "    .dataframe tbody tr th:only-of-type {\n",
       "        vertical-align: middle;\n",
       "    }\n",
       "\n",
       "    .dataframe tbody tr th {\n",
       "        vertical-align: top;\n",
       "    }\n",
       "\n",
       "    .dataframe thead th {\n",
       "        text-align: right;\n",
       "    }\n",
       "</style>\n",
       "<table border=\"1\" class=\"dataframe\">\n",
       "  <thead>\n",
       "    <tr style=\"text-align: right;\">\n",
       "      <th></th>\n",
       "      <th>Bus_name</th>\n",
       "      <th>Bus_type</th>\n",
       "      <th>Start_time</th>\n",
       "      <th>End_time</th>\n",
       "      <th>Total_duration</th>\n",
       "      <th>Price</th>\n",
       "      <th>Seats_Available</th>\n",
       "      <th>Ratings</th>\n",
       "      <th>Route_link</th>\n",
       "      <th>Route_name</th>\n",
       "    </tr>\n",
       "  </thead>\n",
       "  <tbody>\n",
       "    <tr>\n",
       "      <th>0</th>\n",
       "      <td>FRESHBUS</td>\n",
       "      <td>Electric A/C Seater (2+2)</td>\n",
       "      <td>23:10</td>\n",
       "      <td>05:35</td>\n",
       "      <td>06h 25m</td>\n",
       "      <td>1629</td>\n",
       "      <td>10 Seats available</td>\n",
       "      <td>4.5\\n492</td>\n",
       "      <td>https://www.redbus.in/bus-tickets/hyderabad-to...</td>\n",
       "      <td>Hyderabad to Vijayawada</td>\n",
       "    </tr>\n",
       "    <tr>\n",
       "      <th>1</th>\n",
       "      <td>IntrCity SmartBus</td>\n",
       "      <td>Bharat Benz A/C Seater /Sleeper (2+1)</td>\n",
       "      <td>23:50</td>\n",
       "      <td>05:35</td>\n",
       "      <td>05h 45m</td>\n",
       "      <td>INR 929</td>\n",
       "      <td>16 Seats available</td>\n",
       "      <td>4.4\\n918</td>\n",
       "      <td>https://www.redbus.in/bus-tickets/hyderabad-to...</td>\n",
       "      <td>Hyderabad to Vijayawada</td>\n",
       "    </tr>\n",
       "    <tr>\n",
       "      <th>2</th>\n",
       "      <td>IntrCity SmartBus</td>\n",
       "      <td>Scania AC Multi Axle Sleeper (2+1)</td>\n",
       "      <td>23:59</td>\n",
       "      <td>06:30</td>\n",
       "      <td>06h 31m</td>\n",
       "      <td>INR 1459</td>\n",
       "      <td>11 Seats available</td>\n",
       "      <td>4.5\\n473</td>\n",
       "      <td>https://www.redbus.in/bus-tickets/hyderabad-to...</td>\n",
       "      <td>Hyderabad to Vijayawada</td>\n",
       "    </tr>\n",
       "    <tr>\n",
       "      <th>3</th>\n",
       "      <td>AdZingbus Plus</td>\n",
       "      <td>A/C Sleeper (2+1)</td>\n",
       "      <td>17:30</td>\n",
       "      <td>00:50</td>\n",
       "      <td>07h 20m</td>\n",
       "      <td>1514</td>\n",
       "      <td>22 Seats available</td>\n",
       "      <td>4.5\\n13</td>\n",
       "      <td>https://www.redbus.in/bus-tickets/hyderabad-to...</td>\n",
       "      <td>Hyderabad to Vijayawada</td>\n",
       "    </tr>\n",
       "    <tr>\n",
       "      <th>4</th>\n",
       "      <td>Zingbus Plus</td>\n",
       "      <td>A/C Seater / Sleeper (2+1)</td>\n",
       "      <td>23:38</td>\n",
       "      <td>06:05</td>\n",
       "      <td>06h 27m</td>\n",
       "      <td>1109</td>\n",
       "      <td>20 Seats available</td>\n",
       "      <td>4.5\\n472</td>\n",
       "      <td>https://www.redbus.in/bus-tickets/hyderabad-to...</td>\n",
       "      <td>Hyderabad to Vijayawada</td>\n",
       "    </tr>\n",
       "    <tr>\n",
       "      <th>...</th>\n",
       "      <td>...</td>\n",
       "      <td>...</td>\n",
       "      <td>...</td>\n",
       "      <td>...</td>\n",
       "      <td>...</td>\n",
       "      <td>...</td>\n",
       "      <td>...</td>\n",
       "      <td>...</td>\n",
       "      <td>...</td>\n",
       "      <td>...</td>\n",
       "    </tr>\n",
       "    <tr>\n",
       "      <th>4111</th>\n",
       "      <td>Shyamoli Paribahan Pvt Ltd</td>\n",
       "      <td>VE A/C Seater (2+2)</td>\n",
       "      <td>23:30</td>\n",
       "      <td>04:30</td>\n",
       "      <td>05h 00m</td>\n",
       "      <td>INR 799</td>\n",
       "      <td>6 Seats available</td>\n",
       "      <td>4.4\\n349</td>\n",
       "      <td>https://www.redbus.in/bus-tickets/kolkata-to-d...</td>\n",
       "      <td>Kolkata to Digha</td>\n",
       "    </tr>\n",
       "    <tr>\n",
       "      <th>4112</th>\n",
       "      <td>Express Line</td>\n",
       "      <td>Volvo 9600 A/C Seater (2+2)</td>\n",
       "      <td>23:45</td>\n",
       "      <td>04:45</td>\n",
       "      <td>05h 00m</td>\n",
       "      <td>INR 509</td>\n",
       "      <td>6 Seats available</td>\n",
       "      <td>4.4\\n320</td>\n",
       "      <td>https://www.redbus.in/bus-tickets/kolkata-to-d...</td>\n",
       "      <td>Kolkata to Digha</td>\n",
       "    </tr>\n",
       "    <tr>\n",
       "      <th>4113</th>\n",
       "      <td>Mayuri Express</td>\n",
       "      <td>AC Seater (2+2)</td>\n",
       "      <td>23:15</td>\n",
       "      <td>04:30</td>\n",
       "      <td>05h 15m</td>\n",
       "      <td>539</td>\n",
       "      <td>13 Seats available</td>\n",
       "      <td>4.2\\n187</td>\n",
       "      <td>https://www.redbus.in/bus-tickets/kolkata-to-d...</td>\n",
       "      <td>Kolkata to Digha</td>\n",
       "    </tr>\n",
       "    <tr>\n",
       "      <th>4114</th>\n",
       "      <td>NaN</td>\n",
       "      <td>NaN</td>\n",
       "      <td>NaN</td>\n",
       "      <td>NaN</td>\n",
       "      <td>NaN</td>\n",
       "      <td>NaN</td>\n",
       "      <td>NaN</td>\n",
       "      <td>NaN</td>\n",
       "      <td>https://www.redbus.in/bus-tickets/kolkata-to-d...</td>\n",
       "      <td>Kolkata to Digha</td>\n",
       "    </tr>\n",
       "    <tr>\n",
       "      <th>4115</th>\n",
       "      <td>NaN</td>\n",
       "      <td>NaN</td>\n",
       "      <td>NaN</td>\n",
       "      <td>NaN</td>\n",
       "      <td>NaN</td>\n",
       "      <td>NaN</td>\n",
       "      <td>NaN</td>\n",
       "      <td>NaN</td>\n",
       "      <td>https://www.redbus.in/bus-tickets/kolkata-to-d...</td>\n",
       "      <td>Kolkata to Digha</td>\n",
       "    </tr>\n",
       "  </tbody>\n",
       "</table>\n",
       "<p>4116 rows × 10 columns</p>\n",
       "</div>"
      ],
      "text/plain": [
       "                        Bus_name                               Bus_type  \\\n",
       "0                       FRESHBUS              Electric A/C Seater (2+2)   \n",
       "1              IntrCity SmartBus  Bharat Benz A/C Seater /Sleeper (2+1)   \n",
       "2              IntrCity SmartBus     Scania AC Multi Axle Sleeper (2+1)   \n",
       "3                 AdZingbus Plus                      A/C Sleeper (2+1)   \n",
       "4                   Zingbus Plus             A/C Seater / Sleeper (2+1)   \n",
       "...                          ...                                    ...   \n",
       "4111  Shyamoli Paribahan Pvt Ltd                    VE A/C Seater (2+2)   \n",
       "4112                Express Line            Volvo 9600 A/C Seater (2+2)   \n",
       "4113              Mayuri Express                        AC Seater (2+2)   \n",
       "4114                         NaN                                    NaN   \n",
       "4115                         NaN                                    NaN   \n",
       "\n",
       "     Start_time End_time Total_duration     Price     Seats_Available  \\\n",
       "0         23:10    05:35        06h 25m      1629  10 Seats available   \n",
       "1         23:50    05:35        05h 45m   INR 929  16 Seats available   \n",
       "2         23:59    06:30        06h 31m  INR 1459  11 Seats available   \n",
       "3         17:30    00:50        07h 20m      1514  22 Seats available   \n",
       "4         23:38    06:05        06h 27m      1109  20 Seats available   \n",
       "...         ...      ...            ...       ...                 ...   \n",
       "4111      23:30    04:30        05h 00m   INR 799   6 Seats available   \n",
       "4112      23:45    04:45        05h 00m   INR 509   6 Seats available   \n",
       "4113      23:15    04:30        05h 15m       539  13 Seats available   \n",
       "4114        NaN      NaN            NaN       NaN                 NaN   \n",
       "4115        NaN      NaN            NaN       NaN                 NaN   \n",
       "\n",
       "       Ratings                                         Route_link  \\\n",
       "0     4.5\\n492  https://www.redbus.in/bus-tickets/hyderabad-to...   \n",
       "1     4.4\\n918  https://www.redbus.in/bus-tickets/hyderabad-to...   \n",
       "2     4.5\\n473  https://www.redbus.in/bus-tickets/hyderabad-to...   \n",
       "3      4.5\\n13  https://www.redbus.in/bus-tickets/hyderabad-to...   \n",
       "4     4.5\\n472  https://www.redbus.in/bus-tickets/hyderabad-to...   \n",
       "...        ...                                                ...   \n",
       "4111  4.4\\n349  https://www.redbus.in/bus-tickets/kolkata-to-d...   \n",
       "4112  4.4\\n320  https://www.redbus.in/bus-tickets/kolkata-to-d...   \n",
       "4113  4.2\\n187  https://www.redbus.in/bus-tickets/kolkata-to-d...   \n",
       "4114       NaN  https://www.redbus.in/bus-tickets/kolkata-to-d...   \n",
       "4115       NaN  https://www.redbus.in/bus-tickets/kolkata-to-d...   \n",
       "\n",
       "                   Route_name  \n",
       "0     Hyderabad to Vijayawada  \n",
       "1     Hyderabad to Vijayawada  \n",
       "2     Hyderabad to Vijayawada  \n",
       "3     Hyderabad to Vijayawada  \n",
       "4     Hyderabad to Vijayawada  \n",
       "...                       ...  \n",
       "4111         Kolkata to Digha  \n",
       "4112         Kolkata to Digha  \n",
       "4113         Kolkata to Digha  \n",
       "4114         Kolkata to Digha  \n",
       "4115         Kolkata to Digha  \n",
       "\n",
       "[4116 rows x 10 columns]"
      ]
     },
     "execution_count": 17,
     "metadata": {},
     "output_type": "execute_result"
    }
   ],
   "source": [
    "# csv to dataframe\n",
    "df_buses_1=pd.read_csv(r\"C:\\Users\\J\\Desktop\\GUVI\\Project\\RedBus\\Bus_Details\\df_busDetail_A.csv\")\n",
    "df_buses_2=pd.read_csv(r\"C:\\Users\\J\\Desktop\\GUVI\\Project\\RedBus\\Bus_Details\\df_busDetail_AS.csv\")\n",
    "df_buses_3=pd.read_csv(r\"C:\\Users\\J\\Desktop\\GUVI\\Project\\RedBus\\Bus_Details\\df_busDetail_G.csv\")\n",
    "df_buses_4=pd.read_csv(r\"C:\\Users\\J\\Desktop\\GUVI\\Project\\RedBus\\Bus_Details\\df_busDetail_H.csv\")\n",
    "df_buses_5=pd.read_csv(r\"C:\\Users\\J\\Desktop\\GUVI\\Project\\RedBus\\Bus_Details\\df_busDetail_k.csv\")\n",
    "df_buses_6=pd.read_csv(r\"C:\\Users\\J\\Desktop\\GUVI\\Project\\RedBus\\Bus_Details\\df_busDetail_R.csv\")\n",
    "df_buses_7=pd.read_csv(r\"C:\\Users\\J\\Desktop\\GUVI\\Project\\RedBus\\Bus_Details\\df_busDetail_SB.csv\")\n",
    "df_buses_8=pd.read_csv(r\"C:\\Users\\J\\Desktop\\GUVI\\Project\\RedBus\\Bus_Details\\df_busDetail_T.csv\")\n",
    "df_buses_9=pd.read_csv(r\"C:\\Users\\J\\Desktop\\GUVI\\Project\\RedBus\\Bus_Details\\df_busDetail_UP.csv\")\n",
    "df_buses_10=pd.read_csv(r\"C:\\Users\\J\\Desktop\\GUVI\\Project\\RedBus\\Bus_Details\\df_busDetail_WB.csv\")\n",
    "\n",
    "Final_df=pd.concat([df_buses_1,df_buses_2,df_buses_3,df_buses_4,df_buses_5,df_buses_6,\n",
    "                    df_buses_7,df_buses_8,df_buses_9,df_buses_10],ignore_index=True)\n",
    "Final_df"
   ]
  },
  {
   "cell_type": "code",
   "execution_count": 21,
   "id": "e4f7eb15-c4e5-43f8-b51c-a093c73cc4a9",
   "metadata": {},
   "outputs": [
    {
     "name": "stdout",
     "output_type": "stream",
     "text": [
      "<class 'pandas.core.frame.DataFrame'>\n",
      "RangeIndex: 4116 entries, 0 to 4115\n",
      "Data columns (total 10 columns):\n",
      " #   Column           Non-Null Count  Dtype \n",
      "---  ------           --------------  ----- \n",
      " 0   Bus_name         4114 non-null   object\n",
      " 1   Bus_type         4114 non-null   object\n",
      " 2   Start_time       4114 non-null   object\n",
      " 3   End_time         4114 non-null   object\n",
      " 4   Total_duration   4114 non-null   object\n",
      " 5   Price            4114 non-null   object\n",
      " 6   Seats_Available  4114 non-null   object\n",
      " 7   Ratings          4114 non-null   object\n",
      " 8   Route_link       4116 non-null   object\n",
      " 9   Route_name       4116 non-null   object\n",
      "dtypes: object(10)\n",
      "memory usage: 321.7+ KB\n"
     ]
    }
   ],
   "source": [
    "#Data about the data\n",
    "Final_df.info()"
   ]
  },
  {
   "cell_type": "code",
   "execution_count": 23,
   "id": "7cf1e3da-9bf1-4941-bfbd-cfc9e3645c6f",
   "metadata": {},
   "outputs": [
    {
     "data": {
      "text/plain": [
       "0       1629.0\n",
       "1        929.0\n",
       "2       1459.0\n",
       "3       1514.0\n",
       "4       1109.0\n",
       "         ...  \n",
       "4111     799.0\n",
       "4112     509.0\n",
       "4113     539.0\n",
       "4114       0.0\n",
       "4115       0.0\n",
       "Name: Price, Length: 4116, dtype: float64"
      ]
     },
     "execution_count": 23,
     "metadata": {},
     "output_type": "execute_result"
    }
   ],
   "source": [
    "#convert prices to numeric\n",
    "Final_df[\"Price\"]=Final_df[\"Price\"].str.replace(\"INR\",\"\")\n",
    "Final_df[\"Price\"]=Final_df[\"Price\"].astype(float)\n",
    "Final_df[\"Price\"].fillna(0) \n"
   ]
  },
  {
   "cell_type": "code",
   "execution_count": 25,
   "id": "2b1292e2-e81e-493e-b186-8aeacb794b59",
   "metadata": {},
   "outputs": [
    {
     "name": "stderr",
     "output_type": "stream",
     "text": [
      "C:\\Users\\J\\AppData\\Local\\Temp\\ipykernel_18752\\2577861265.py:6: FutureWarning: A value is trying to be set on a copy of a DataFrame or Series through chained assignment using an inplace method.\n",
      "The behavior will change in pandas 3.0. This inplace method will never work because the intermediate object on which we are setting values always behaves as a copy.\n",
      "\n",
      "For example, when doing 'df[col].method(value, inplace=True)', try using 'df.method({col: value}, inplace=True)' or df[col] = df[col].method(value) instead, to perform the operation inplace on the original object.\n",
      "\n",
      "\n",
      "  Final_df[\"Ratings\"].fillna(0,inplace=True)\n"
     ]
    }
   ],
   "source": [
    "#convert Ratings to numeric\n",
    "Final_df[\"Ratings\"]=Final_df[\"Ratings\"].str.replace(\"New\",\"\")\n",
    "Final_df[\"Ratings\"]=Final_df[\"Ratings\"].str.strip()\n",
    "Final_df[\"Ratings\"]=Final_df[\"Ratings\"].str.split().str[0]\n",
    "Final_df[\"Ratings\"] = pd.to_numeric(Final_df[\"Ratings\"], errors='coerce')\n",
    "Final_df[\"Ratings\"].fillna(0,inplace=True) \n"
   ]
  },
  {
   "cell_type": "code",
   "execution_count": 27,
   "id": "5753baac-3002-4934-80fc-e9da9e4f537e",
   "metadata": {},
   "outputs": [
    {
     "name": "stdout",
     "output_type": "stream",
     "text": [
      "<class 'pandas.core.frame.DataFrame'>\n",
      "RangeIndex: 4116 entries, 0 to 4115\n",
      "Data columns (total 10 columns):\n",
      " #   Column           Non-Null Count  Dtype  \n",
      "---  ------           --------------  -----  \n",
      " 0   Bus_name         4114 non-null   object \n",
      " 1   Bus_type         4114 non-null   object \n",
      " 2   Start_time       4114 non-null   object \n",
      " 3   End_time         4114 non-null   object \n",
      " 4   Total_duration   4114 non-null   object \n",
      " 5   Price            4114 non-null   float64\n",
      " 6   Seats_Available  4114 non-null   object \n",
      " 7   Ratings          4116 non-null   float64\n",
      " 8   Route_link       4116 non-null   object \n",
      " 9   Route_name       4116 non-null   object \n",
      "dtypes: float64(2), object(8)\n",
      "memory usage: 321.7+ KB\n"
     ]
    }
   ],
   "source": [
    "# info after the data type change\n",
    "Final_df.info()"
   ]
  },
  {
   "cell_type": "code",
   "execution_count": 29,
   "id": "14cd28b7-55c8-4884-967e-4e3f56cf25f2",
   "metadata": {},
   "outputs": [],
   "source": [
    "Final_df = Final_df[Final_df[\"Price\"] <= 7000]"
   ]
  },
  {
   "cell_type": "code",
   "execution_count": 31,
   "id": "1e532483-f27a-45f8-830b-8c104bd65891",
   "metadata": {},
   "outputs": [],
   "source": [
    "# replacing the nan value\n",
    "Final_df = Final_df.replace({np.nan: None})"
   ]
  },
  {
   "cell_type": "code",
   "execution_count": 33,
   "id": "14233a25-79c4-4926-afca-1ff4c2d2ac6e",
   "metadata": {},
   "outputs": [],
   "source": [
    "# change dataframe to csv\n",
    "path=r\"C:\\Users\\J\\Desktop\\GUVI\\Project\\RedBus\\Bus_Details\\df_busdetail.csv\"\n",
    "Final_df.to_csv(path,index=False)"
   ]
  },
  {
   "cell_type": "code",
   "execution_count": 43,
   "id": "4e89de6a-820b-437b-ae0f-593a8cef4b3c",
   "metadata": {},
   "outputs": [
    {
     "name": "stdout",
     "output_type": "stream",
     "text": [
      "<mysql.connector.connection_cext.CMySQLConnection object at 0x000001AE4BA43320>\n"
     ]
    },
    {
     "ename": "NameError",
     "evalue": "name 'pymysql' is not defined",
     "output_type": "error",
     "traceback": [
      "\u001b[1;31m---------------------------------------------------------------------------\u001b[0m",
      "\u001b[1;31mNameError\u001b[0m                                 Traceback (most recent call last)",
      "Cell \u001b[1;32mIn[43], line 11\u001b[0m\n\u001b[0;32m      7\u001b[0m \u001b[38;5;28mprint\u001b[39m(con)\n\u001b[0;32m     10\u001b[0m \u001b[38;5;66;03m#Alternative pymysql connector\u001b[39;00m\n\u001b[1;32m---> 11\u001b[0m con\u001b[38;5;241m=\u001b[39m pymysql\u001b[38;5;241m.\u001b[39mconnect(\n\u001b[0;32m     12\u001b[0m     host\u001b[38;5;241m=\u001b[39m\u001b[38;5;124m\"\u001b[39m\u001b[38;5;124mlocalhost\u001b[39m\u001b[38;5;124m\"\u001b[39m,\n\u001b[0;32m     13\u001b[0m     user\u001b[38;5;241m=\u001b[39m\u001b[38;5;124m\"\u001b[39m\u001b[38;5;124mroot\u001b[39m\u001b[38;5;124m\"\u001b[39m,\n\u001b[0;32m     14\u001b[0m     password\u001b[38;5;241m=\u001b[39m\u001b[38;5;124m\"\u001b[39m\u001b[38;5;124mKarthick@04\u001b[39m\u001b[38;5;124m\"\u001b[39m,\n\u001b[0;32m     15\u001b[0m     autocommit\u001b[38;5;241m=\u001b[39m\u001b[38;5;28;01mTrue\u001b[39;00m\n\u001b[0;32m     16\u001b[0m     )\n\u001b[0;32m     17\u001b[0m \u001b[38;5;28mprint\u001b[39m(con)\n",
      "\u001b[1;31mNameError\u001b[0m: name 'pymysql' is not defined"
     ]
    }
   ],
   "source": [
    "con= mysql.connector.connect(\n",
    "    host=\"localhost\",\n",
    "    user=\"root\",\n",
    "    password=\"Karthick@04\",\n",
    "    autocommit=True\n",
    "    )\n",
    "print(con)\n",
    "\n",
    "\n",
    "#Alternative pymysql connector\n",
    "con= pymysql.connect(\n",
    "    host=\"localhost\",\n",
    "    user=\"root\",\n",
    "    password=\"Karthick@04\",\n",
    "    autocommit=True\n",
    "    )\n",
    "print(con)"
   ]
  },
  {
   "cell_type": "code",
   "execution_count": 45,
   "id": "8e317bf0-80e5-4497-abf5-77060d4bae8d",
   "metadata": {},
   "outputs": [],
   "source": [
    "mycursor=con.cursor()"
   ]
  },
  {
   "cell_type": "code",
   "execution_count": 47,
   "id": "c2c39392-bcc2-468c-8d55-ecf8564c1d91",
   "metadata": {},
   "outputs": [],
   "source": [
    "mycursor.execute(\"CREATE DATABASE IF NOT EXISTS RED_BUS_DETAILS\")"
   ]
  },
  {
   "cell_type": "code",
   "execution_count": 49,
   "id": "f648f06b-a1ef-43cd-a4ff-995c45ab2213",
   "metadata": {},
   "outputs": [
    {
     "name": "stdout",
     "output_type": "stream",
     "text": [
      "('dte38',)\n",
      "('information_schema',)\n",
      "('jai',)\n",
      "('mysql',)\n",
      "('performance_schema',)\n",
      "('red_bus_details',)\n",
      "('sakila',)\n",
      "('sys',)\n",
      "('task',)\n",
      "('task1',)\n",
      "('test',)\n",
      "('world',)\n"
     ]
    }
   ],
   "source": [
    "mycursor.execute(\"SHOW DATABASES\")\n",
    "for x in mycursor:\n",
    "    print(x)"
   ]
  },
  {
   "cell_type": "code",
   "execution_count": 51,
   "id": "a82d8a2b-f6ef-479b-894f-3d2b53187ac3",
   "metadata": {},
   "outputs": [],
   "source": [
    "mycursor.execute(\"USE RED_BUS_DETAILS\")"
   ]
  },
  {
   "cell_type": "code",
   "execution_count": 53,
   "id": "c3ff433b-63ce-4cee-8e51-e0111fd64576",
   "metadata": {},
   "outputs": [
    {
     "name": "stdout",
     "output_type": "stream",
     "text": [
      "Table Created successfully\n"
     ]
    }
   ],
   "source": [
    "# Table Creation\n",
    "mycursor.execute('''CREATE TABLE IF NOT EXISTS bus_details(\n",
    "                  ID INT AUTO_INCREMENT PRIMARY KEY,\n",
    "                  Bus_name VARCHAR(255) NOT NULL,\n",
    "                  Bus_type VARCHAR(255) NOT NULL,\n",
    "                  Start_time VARCHAR(255) NOT NULL,\n",
    "                  End_time VARCHAR(255) NOT NULL,\n",
    "                  Total_duration VARCHAR(255) NOT NULL,\n",
    "                  Price FLOAT NULL,\n",
    "                  Seats_Available VARCHAR(255) NOT NULL,\n",
    "                  Ratings Float NULL,\n",
    "                  Route_link VARCHAR(255) NULL,\n",
    "                  Route_name VARCHAR(255) NULL\n",
    "                  )''')\n",
    "print(\"Table Created successfully\")"
   ]
  },
  {
   "cell_type": "code",
   "execution_count": 59,
   "id": "d6b1494a-b89f-446a-91ba-19125681f24a",
   "metadata": {},
   "outputs": [
    {
     "name": "stdout",
     "output_type": "stream",
     "text": [
      "Values inserted successfully\n"
     ]
    }
   ],
   "source": [
    "# SQL query to insert data into bus_details table\n",
    "insert_query = '''INSERT INTO bus_details(\n",
    "                    Bus_name,\n",
    "                    Bus_type,\n",
    "                    Start_time,\n",
    "                    End_time,\n",
    "                    Total_duration,\n",
    "                    Price,\n",
    "                    Seats_Available,\n",
    "                    Ratings,\n",
    "                    Route_link,\n",
    "                    Route_name)\n",
    "                  VALUES(%s, %s, %s, %s, %s, %s, %s, %s, %s, %s)'''\n",
    "data = Final_df.values.tolist()\n",
    "\n",
    "mycursor.executemany(insert_query, data)\n",
    "\n",
    "con.commit()\n",
    "\n",
    "print(\"Values inserted successfully\")\n"
   ]
  },
  {
   "cell_type": "code",
   "execution_count": null,
   "id": "da4704ff-93ba-4efd-b59e-efb19b7bfccf",
   "metadata": {},
   "outputs": [],
   "source": []
  }
 ],
 "metadata": {
  "kernelspec": {
   "display_name": "Python 3 (ipykernel)",
   "language": "python",
   "name": "python3"
  },
  "language_info": {
   "codemirror_mode": {
    "name": "ipython",
    "version": 3
   },
   "file_extension": ".py",
   "mimetype": "text/x-python",
   "name": "python",
   "nbconvert_exporter": "python",
   "pygments_lexer": "ipython3",
   "version": "3.12.4"
  }
 },
 "nbformat": 4,
 "nbformat_minor": 5
}
